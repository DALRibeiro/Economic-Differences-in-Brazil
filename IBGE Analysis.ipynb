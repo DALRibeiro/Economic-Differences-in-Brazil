{
 "cells": [
  {
   "cell_type": "markdown",
   "id": "15157df0",
   "metadata": {},
   "source": [
    "### Data Source from IBGE: Instituto Brasileiro de Geografia e Estatistica (Brazilian Institute of Geography and Statistics)\n",
    "\n",
    "#### Data from 2015"
   ]
  },
  {
   "cell_type": "markdown",
   "id": "f0534bb3",
   "metadata": {},
   "source": [
    "### Variable Used\n",
    "\n",
    "> ### Income\n",
    "***\n",
    "\n",
    "Monthly income from main work for persons aged 10 years and over.\n",
    "\n",
    "\n",
    "> ### State\n",
    "***\n",
    "\n",
    "States of Brazil\n",
    "\n",
    "|COD|Identification|\n",
    "|---|---|\n",
    "|11|Rondônia|\n",
    "|12|Acre|\n",
    "|13|Amazonas|\n",
    "|14|Roraima|\n",
    "|15|Pará|\n",
    "|16|Amapá|\n",
    "|17|Tocantins|\n",
    "|21|Maranhão|\n",
    "|22|Piauí|\n",
    "|23|Ceará|\n",
    "|24|Rio Grande do Norte|\n",
    "|25|Paraíba|\n",
    "|26|Pernambuco|\n",
    "|27|Alagoas|\n",
    "|28|Sergipe|\n",
    "|29|Bahia|\n",
    "|31|Minas Gerais|\n",
    "|32|Espírito Santo|\n",
    "|33|Rio de Janeiro|\n",
    "|35|São Paulo|\n",
    "|41|Paraná|\n",
    "|42|Santa Catarina|\n",
    "|43|Rio Grande do Sul|\n",
    "|50|Mato Grosso do Sul|\n",
    "|51|Mato Grosso|\n",
    "|52|Goiás|\n",
    "|53|Distrito Federal|\n",
    "\n",
    "> ### Gender\n",
    "***\n",
    "\n",
    "|COD|Identification|\n",
    "|---|---|\n",
    "|0|Male|\n",
    "|1|Female|\n",
    "\n",
    "> ### Years of Study\n",
    "***\n",
    "\n",
    "|COD|Identification|\n",
    "|---|---|\n",
    "|1|Without instruction or less than 1 year|\n",
    "|2|1 year|\n",
    "|3|2 years|\n",
    "|4|3 years|\n",
    "|5|4 years|\n",
    "|6|5 years|\n",
    "|7|6 years|\n",
    "|8|7 years|\n",
    "|9|8 years|\n",
    "|10|9 years|\n",
    "|11|10 years|\n",
    "|12|11 years|\n",
    "|13|12 years|\n",
    "|14|13 years|\n",
    "|15|14 years|\n",
    "|16|15 years or more|\n",
    "|17|Not determined| \n",
    "||Not applicable|\n",
    "\n",
    "> ### Ethnicity\n",
    "***\n",
    "\n",
    "|COD|Identification|\n",
    "|---|---|\n",
    "|0|Indian|\n",
    "|2|Caucasian|\n",
    "|4|Dark Colored Skin|\n",
    "|6|Asian|\n",
    "|8|Dark Colored Skin (Pardo)|\n",
    "|9|Without declaration|"
   ]
  },
  {
   "cell_type": "markdown",
   "id": "8bfab156",
   "metadata": {},
   "source": [
    "## 1 - Analysing all variables"
   ]
  },
  {
   "cell_type": "code",
   "execution_count": 91,
   "id": "90f1d40f",
   "metadata": {},
   "outputs": [],
   "source": [
    "import pandas as pd"
   ]
  },
  {
   "cell_type": "code",
   "execution_count": 92,
   "id": "dd5ce929",
   "metadata": {},
   "outputs": [
    {
     "data": {
      "text/html": [
       "<div>\n",
       "<style scoped>\n",
       "    .dataframe tbody tr th:only-of-type {\n",
       "        vertical-align: middle;\n",
       "    }\n",
       "\n",
       "    .dataframe tbody tr th {\n",
       "        vertical-align: top;\n",
       "    }\n",
       "\n",
       "    .dataframe thead th {\n",
       "        text-align: right;\n",
       "    }\n",
       "</style>\n",
       "<table border=\"1\" class=\"dataframe\">\n",
       "  <thead>\n",
       "    <tr style=\"text-align: right;\">\n",
       "      <th></th>\n",
       "      <th>UF</th>\n",
       "      <th>Sexo</th>\n",
       "      <th>Idade</th>\n",
       "      <th>Cor</th>\n",
       "      <th>Anos de Estudo</th>\n",
       "      <th>Renda</th>\n",
       "      <th>Altura</th>\n",
       "    </tr>\n",
       "  </thead>\n",
       "  <tbody>\n",
       "    <tr>\n",
       "      <th>0</th>\n",
       "      <td>11</td>\n",
       "      <td>0</td>\n",
       "      <td>23</td>\n",
       "      <td>8</td>\n",
       "      <td>12</td>\n",
       "      <td>800</td>\n",
       "      <td>1.603808</td>\n",
       "    </tr>\n",
       "    <tr>\n",
       "      <th>1</th>\n",
       "      <td>11</td>\n",
       "      <td>1</td>\n",
       "      <td>23</td>\n",
       "      <td>2</td>\n",
       "      <td>12</td>\n",
       "      <td>1150</td>\n",
       "      <td>1.739790</td>\n",
       "    </tr>\n",
       "    <tr>\n",
       "      <th>2</th>\n",
       "      <td>11</td>\n",
       "      <td>1</td>\n",
       "      <td>35</td>\n",
       "      <td>8</td>\n",
       "      <td>15</td>\n",
       "      <td>880</td>\n",
       "      <td>1.760444</td>\n",
       "    </tr>\n",
       "    <tr>\n",
       "      <th>3</th>\n",
       "      <td>11</td>\n",
       "      <td>0</td>\n",
       "      <td>46</td>\n",
       "      <td>2</td>\n",
       "      <td>6</td>\n",
       "      <td>3500</td>\n",
       "      <td>1.783158</td>\n",
       "    </tr>\n",
       "    <tr>\n",
       "      <th>4</th>\n",
       "      <td>11</td>\n",
       "      <td>1</td>\n",
       "      <td>47</td>\n",
       "      <td>8</td>\n",
       "      <td>9</td>\n",
       "      <td>150</td>\n",
       "      <td>1.690631</td>\n",
       "    </tr>\n",
       "  </tbody>\n",
       "</table>\n",
       "</div>"
      ],
      "text/plain": [
       "   UF  Sexo  Idade  Cor  Anos de Estudo  Renda    Altura\n",
       "0  11     0     23    8              12    800  1.603808\n",
       "1  11     1     23    2              12   1150  1.739790\n",
       "2  11     1     35    8              15    880  1.760444\n",
       "3  11     0     46    2               6   3500  1.783158\n",
       "4  11     1     47    8               9    150  1.690631"
      ]
     },
     "execution_count": 92,
     "metadata": {},
     "output_type": "execute_result"
    }
   ],
   "source": [
    "data = pd.read_csv('dados.csv')\n",
    "data.head()"
   ]
  },
  {
   "cell_type": "code",
   "execution_count": 93,
   "id": "c89897d6",
   "metadata": {},
   "outputs": [],
   "source": [
    "data.drop(labels = 'Altura', axis=1, inplace = True)"
   ]
  },
  {
   "cell_type": "code",
   "execution_count": 94,
   "id": "b4e27afb",
   "metadata": {},
   "outputs": [],
   "source": [
    "data.rename(columns = {'UF':'State', 'Sexo':'Gender', 'Idade':'Age', 'Cor':'Ethnicity', 'Anos de Estudo': 'Years of Study', 'Renda':'Income'}, inplace = True)"
   ]
  },
  {
   "cell_type": "code",
   "execution_count": 95,
   "id": "21c33515",
   "metadata": {},
   "outputs": [
    {
     "data": {
      "text/html": [
       "<div>\n",
       "<style scoped>\n",
       "    .dataframe tbody tr th:only-of-type {\n",
       "        vertical-align: middle;\n",
       "    }\n",
       "\n",
       "    .dataframe tbody tr th {\n",
       "        vertical-align: top;\n",
       "    }\n",
       "\n",
       "    .dataframe thead th {\n",
       "        text-align: right;\n",
       "    }\n",
       "</style>\n",
       "<table border=\"1\" class=\"dataframe\">\n",
       "  <thead>\n",
       "    <tr style=\"text-align: right;\">\n",
       "      <th></th>\n",
       "      <th>State</th>\n",
       "      <th>Gender</th>\n",
       "      <th>Age</th>\n",
       "      <th>Ethnicity</th>\n",
       "      <th>Years of Study</th>\n",
       "      <th>Income</th>\n",
       "    </tr>\n",
       "  </thead>\n",
       "  <tbody>\n",
       "    <tr>\n",
       "      <th>count</th>\n",
       "      <td>76840.000000</td>\n",
       "      <td>76840.000000</td>\n",
       "      <td>76840.000000</td>\n",
       "      <td>76840.000000</td>\n",
       "      <td>76840.000000</td>\n",
       "      <td>76840.000000</td>\n",
       "    </tr>\n",
       "    <tr>\n",
       "      <th>mean</th>\n",
       "      <td>31.912962</td>\n",
       "      <td>0.307002</td>\n",
       "      <td>44.071421</td>\n",
       "      <td>5.032613</td>\n",
       "      <td>9.469664</td>\n",
       "      <td>2000.383199</td>\n",
       "    </tr>\n",
       "    <tr>\n",
       "      <th>std</th>\n",
       "      <td>11.147830</td>\n",
       "      <td>0.461253</td>\n",
       "      <td>12.480583</td>\n",
       "      <td>2.857118</td>\n",
       "      <td>4.539929</td>\n",
       "      <td>3323.387730</td>\n",
       "    </tr>\n",
       "    <tr>\n",
       "      <th>min</th>\n",
       "      <td>11.000000</td>\n",
       "      <td>0.000000</td>\n",
       "      <td>13.000000</td>\n",
       "      <td>0.000000</td>\n",
       "      <td>1.000000</td>\n",
       "      <td>0.000000</td>\n",
       "    </tr>\n",
       "    <tr>\n",
       "      <th>25%</th>\n",
       "      <td>25.000000</td>\n",
       "      <td>0.000000</td>\n",
       "      <td>34.000000</td>\n",
       "      <td>2.000000</td>\n",
       "      <td>6.000000</td>\n",
       "      <td>788.000000</td>\n",
       "    </tr>\n",
       "    <tr>\n",
       "      <th>50%</th>\n",
       "      <td>31.000000</td>\n",
       "      <td>0.000000</td>\n",
       "      <td>43.000000</td>\n",
       "      <td>4.000000</td>\n",
       "      <td>11.000000</td>\n",
       "      <td>1200.000000</td>\n",
       "    </tr>\n",
       "    <tr>\n",
       "      <th>75%</th>\n",
       "      <td>41.000000</td>\n",
       "      <td>1.000000</td>\n",
       "      <td>53.000000</td>\n",
       "      <td>8.000000</td>\n",
       "      <td>12.000000</td>\n",
       "      <td>2000.000000</td>\n",
       "    </tr>\n",
       "    <tr>\n",
       "      <th>max</th>\n",
       "      <td>53.000000</td>\n",
       "      <td>1.000000</td>\n",
       "      <td>99.000000</td>\n",
       "      <td>8.000000</td>\n",
       "      <td>17.000000</td>\n",
       "      <td>200000.000000</td>\n",
       "    </tr>\n",
       "  </tbody>\n",
       "</table>\n",
       "</div>"
      ],
      "text/plain": [
       "              State        Gender           Age     Ethnicity  Years of Study  \\\n",
       "count  76840.000000  76840.000000  76840.000000  76840.000000    76840.000000   \n",
       "mean      31.912962      0.307002     44.071421      5.032613        9.469664   \n",
       "std       11.147830      0.461253     12.480583      2.857118        4.539929   \n",
       "min       11.000000      0.000000     13.000000      0.000000        1.000000   \n",
       "25%       25.000000      0.000000     34.000000      2.000000        6.000000   \n",
       "50%       31.000000      0.000000     43.000000      4.000000       11.000000   \n",
       "75%       41.000000      1.000000     53.000000      8.000000       12.000000   \n",
       "max       53.000000      1.000000     99.000000      8.000000       17.000000   \n",
       "\n",
       "              Income  \n",
       "count   76840.000000  \n",
       "mean     2000.383199  \n",
       "std      3323.387730  \n",
       "min         0.000000  \n",
       "25%       788.000000  \n",
       "50%      1200.000000  \n",
       "75%      2000.000000  \n",
       "max    200000.000000  "
      ]
     },
     "execution_count": 95,
     "metadata": {},
     "output_type": "execute_result"
    }
   ],
   "source": [
    "data.describe()"
   ]
  },
  {
   "cell_type": "code",
   "execution_count": 96,
   "id": "6ec04a74",
   "metadata": {},
   "outputs": [
    {
     "data": {
      "text/plain": [
       "0    53250\n",
       "1    23590\n",
       "Name: Gender, dtype: int64"
      ]
     },
     "execution_count": 96,
     "metadata": {},
     "output_type": "execute_result"
    }
   ],
   "source": [
    "frequency = data['Gender'].value_counts()\n",
    "frequency"
   ]
  },
  {
   "cell_type": "code",
   "execution_count": 97,
   "id": "2d9574c4",
   "metadata": {},
   "outputs": [
    {
     "data": {
      "text/plain": [
       "0    69.299844\n",
       "1    30.700156\n",
       "Name: Gender, dtype: float64"
      ]
     },
     "execution_count": 97,
     "metadata": {},
     "output_type": "execute_result"
    }
   ],
   "source": [
    "percentual = data['Gender'].value_counts(normalize = True)*100\n",
    "percentual"
   ]
  },
  {
   "cell_type": "code",
   "execution_count": 98,
   "id": "1da30411",
   "metadata": {},
   "outputs": [
    {
     "data": {
      "text/html": [
       "<div>\n",
       "<style scoped>\n",
       "    .dataframe tbody tr th:only-of-type {\n",
       "        vertical-align: middle;\n",
       "    }\n",
       "\n",
       "    .dataframe tbody tr th {\n",
       "        vertical-align: top;\n",
       "    }\n",
       "\n",
       "    .dataframe thead th {\n",
       "        text-align: right;\n",
       "    }\n",
       "</style>\n",
       "<table border=\"1\" class=\"dataframe\">\n",
       "  <thead>\n",
       "    <tr style=\"text-align: right;\">\n",
       "      <th></th>\n",
       "      <th>Frequency</th>\n",
       "      <th>Percentual</th>\n",
       "    </tr>\n",
       "  </thead>\n",
       "  <tbody>\n",
       "    <tr>\n",
       "      <th>0</th>\n",
       "      <td>53250</td>\n",
       "      <td>69.299844</td>\n",
       "    </tr>\n",
       "    <tr>\n",
       "      <th>1</th>\n",
       "      <td>23590</td>\n",
       "      <td>30.700156</td>\n",
       "    </tr>\n",
       "  </tbody>\n",
       "</table>\n",
       "</div>"
      ],
      "text/plain": [
       "   Frequency  Percentual\n",
       "0      53250   69.299844\n",
       "1      23590   30.700156"
      ]
     },
     "execution_count": 98,
     "metadata": {},
     "output_type": "execute_result"
    }
   ],
   "source": [
    "freq_distr = pd.DataFrame({'Frequency': frequency, 'Percentual': percentual})\n",
    "freq_distr"
   ]
  },
  {
   "cell_type": "code",
   "execution_count": 99,
   "id": "a6ba024d",
   "metadata": {},
   "outputs": [
    {
     "data": {
      "text/html": [
       "<div>\n",
       "<style scoped>\n",
       "    .dataframe tbody tr th:only-of-type {\n",
       "        vertical-align: middle;\n",
       "    }\n",
       "\n",
       "    .dataframe tbody tr th {\n",
       "        vertical-align: top;\n",
       "    }\n",
       "\n",
       "    .dataframe thead th {\n",
       "        text-align: right;\n",
       "    }\n",
       "</style>\n",
       "<table border=\"1\" class=\"dataframe\">\n",
       "  <thead>\n",
       "    <tr style=\"text-align: right;\">\n",
       "      <th>Gender</th>\n",
       "      <th>Frequency</th>\n",
       "      <th>Percentual</th>\n",
       "    </tr>\n",
       "  </thead>\n",
       "  <tbody>\n",
       "    <tr>\n",
       "      <th>Male</th>\n",
       "      <td>53250</td>\n",
       "      <td>69.299844</td>\n",
       "    </tr>\n",
       "    <tr>\n",
       "      <th>Female</th>\n",
       "      <td>23590</td>\n",
       "      <td>30.700156</td>\n",
       "    </tr>\n",
       "  </tbody>\n",
       "</table>\n",
       "</div>"
      ],
      "text/plain": [
       "Gender  Frequency  Percentual\n",
       "Male        53250   69.299844\n",
       "Female      23590   30.700156"
      ]
     },
     "execution_count": 99,
     "metadata": {},
     "output_type": "execute_result"
    }
   ],
   "source": [
    "# Encode integers (0 and 1) to \"Male\" and \"Female\", respectively\n",
    "freq_distr.rename(index = {0: 'Male', 1: 'Female'}, inplace = True)\n",
    "freq_distr.rename_axis('Gender', axis = 'columns', inplace = True)\n",
    "freq_distr"
   ]
  },
  {
   "cell_type": "code",
   "execution_count": 100,
   "id": "7a1a3c37",
   "metadata": {},
   "outputs": [
    {
     "data": {
      "text/html": [
       "<div>\n",
       "<style scoped>\n",
       "    .dataframe tbody tr th:only-of-type {\n",
       "        vertical-align: middle;\n",
       "    }\n",
       "\n",
       "    .dataframe tbody tr th {\n",
       "        vertical-align: top;\n",
       "    }\n",
       "\n",
       "    .dataframe thead th {\n",
       "        text-align: right;\n",
       "    }\n",
       "</style>\n",
       "<table border=\"1\" class=\"dataframe\">\n",
       "  <thead>\n",
       "    <tr style=\"text-align: right;\">\n",
       "      <th>Ethnicity</th>\n",
       "      <th>Indian</th>\n",
       "      <th>Caucasian</th>\n",
       "      <th>Dark Colored Skin</th>\n",
       "      <th>Asian</th>\n",
       "      <th>Dark Colored Skin (Pardo)</th>\n",
       "    </tr>\n",
       "    <tr>\n",
       "      <th>Gender</th>\n",
       "      <th></th>\n",
       "      <th></th>\n",
       "      <th></th>\n",
       "      <th></th>\n",
       "      <th></th>\n",
       "    </tr>\n",
       "  </thead>\n",
       "  <tbody>\n",
       "    <tr>\n",
       "      <th>Male</th>\n",
       "      <td>0.333160</td>\n",
       "      <td>28.883394</td>\n",
       "      <td>7.160333</td>\n",
       "      <td>0.305830</td>\n",
       "      <td>32.617126</td>\n",
       "    </tr>\n",
       "    <tr>\n",
       "      <th>Female</th>\n",
       "      <td>0.131442</td>\n",
       "      <td>12.520822</td>\n",
       "      <td>3.759761</td>\n",
       "      <td>0.152264</td>\n",
       "      <td>14.135867</td>\n",
       "    </tr>\n",
       "  </tbody>\n",
       "</table>\n",
       "</div>"
      ],
      "text/plain": [
       "Ethnicity    Indian  Caucasian  Dark Colored Skin     Asian  \\\n",
       "Gender                                                        \n",
       "Male       0.333160  28.883394           7.160333  0.305830   \n",
       "Female     0.131442  12.520822           3.759761  0.152264   \n",
       "\n",
       "Ethnicity  Dark Colored Skin (Pardo)  \n",
       "Gender                                \n",
       "Male                       32.617126  \n",
       "Female                     14.135867  "
      ]
     },
     "execution_count": 100,
     "metadata": {},
     "output_type": "execute_result"
    }
   ],
   "source": [
    "gender = {0: 'Male',\n",
    "        1: 'Female'}\n",
    "\n",
    "ethnicity = {0: 'Indian',\n",
    "        2: 'Caucasian',\n",
    "        4: 'Dark Colored Skin',\n",
    "        6: 'Asian',\n",
    "        8: 'Dark Colored Skin (Pardo)',\n",
    "        9: 'Without declaration'}\n",
    "percentage = pd.crosstab(data['Gender'], data['Ethnicity'], normalize = True)*100\n",
    "percentage.rename(index = gender, inplace = True)\n",
    "percentage.rename(columns = ethnicity, inplace = True)\n",
    "percentage"
   ]
  },
  {
   "cell_type": "code",
   "execution_count": 101,
   "id": "6b37cb9a",
   "metadata": {},
   "outputs": [
    {
     "data": {
      "text/html": [
       "<div>\n",
       "<style scoped>\n",
       "    .dataframe tbody tr th:only-of-type {\n",
       "        vertical-align: middle;\n",
       "    }\n",
       "\n",
       "    .dataframe tbody tr th {\n",
       "        vertical-align: top;\n",
       "    }\n",
       "\n",
       "    .dataframe thead th {\n",
       "        text-align: right;\n",
       "    }\n",
       "</style>\n",
       "<table border=\"1\" class=\"dataframe\">\n",
       "  <thead>\n",
       "    <tr style=\"text-align: right;\">\n",
       "      <th>Ethnicity</th>\n",
       "      <th>Indian</th>\n",
       "      <th>Caucasian</th>\n",
       "      <th>Dark Colored Skin</th>\n",
       "      <th>Asian</th>\n",
       "      <th>Dark Colored Skin (Pardo)</th>\n",
       "    </tr>\n",
       "    <tr>\n",
       "      <th>Gender</th>\n",
       "      <th></th>\n",
       "      <th></th>\n",
       "      <th></th>\n",
       "      <th></th>\n",
       "      <th></th>\n",
       "    </tr>\n",
       "  </thead>\n",
       "  <tbody>\n",
       "    <tr>\n",
       "      <th>Male</th>\n",
       "      <td>1081.710938</td>\n",
       "      <td>2925.744435</td>\n",
       "      <td>1603.861687</td>\n",
       "      <td>4758.251064</td>\n",
       "      <td>1659.577425</td>\n",
       "    </tr>\n",
       "    <tr>\n",
       "      <th>Female</th>\n",
       "      <td>2464.386139</td>\n",
       "      <td>2109.866750</td>\n",
       "      <td>1134.596400</td>\n",
       "      <td>3027.341880</td>\n",
       "      <td>1176.758516</td>\n",
       "    </tr>\n",
       "  </tbody>\n",
       "</table>\n",
       "</div>"
      ],
      "text/plain": [
       "Ethnicity       Indian    Caucasian  Dark Colored Skin        Asian  \\\n",
       "Gender                                                                \n",
       "Male       1081.710938  2925.744435        1603.861687  4758.251064   \n",
       "Female     2464.386139  2109.866750        1134.596400  3027.341880   \n",
       "\n",
       "Ethnicity  Dark Colored Skin (Pardo)  \n",
       "Gender                                \n",
       "Male                     1659.577425  \n",
       "Female                   1176.758516  "
      ]
     },
     "execution_count": 101,
     "metadata": {},
     "output_type": "execute_result"
    }
   ],
   "source": [
    "percentage = pd.crosstab(data['Gender'], data['Ethnicity'], aggfunc = 'mean', values = data['Income'])\n",
    "percentage.rename(index = gender, inplace = True)\n",
    "percentage.rename(columns = race, inplace = True)\n",
    "percentage"
   ]
  },
  {
   "cell_type": "code",
   "execution_count": 102,
   "id": "70852f80",
   "metadata": {},
   "outputs": [
    {
     "data": {
      "text/html": [
       "<div>\n",
       "<style scoped>\n",
       "    .dataframe tbody tr th:only-of-type {\n",
       "        vertical-align: middle;\n",
       "    }\n",
       "\n",
       "    .dataframe tbody tr th {\n",
       "        vertical-align: top;\n",
       "    }\n",
       "\n",
       "    .dataframe thead th {\n",
       "        text-align: right;\n",
       "    }\n",
       "</style>\n",
       "<table border=\"1\" class=\"dataframe\">\n",
       "  <thead>\n",
       "    <tr style=\"text-align: right;\">\n",
       "      <th>Ethnicity</th>\n",
       "      <th>Indian</th>\n",
       "      <th>Caucasian</th>\n",
       "      <th>Dark Colored Skin</th>\n",
       "      <th>Asian</th>\n",
       "      <th>Dark Colored Skin (Pardo)</th>\n",
       "    </tr>\n",
       "    <tr>\n",
       "      <th>Gender</th>\n",
       "      <th></th>\n",
       "      <th></th>\n",
       "      <th></th>\n",
       "      <th></th>\n",
       "      <th></th>\n",
       "    </tr>\n",
       "  </thead>\n",
       "  <tbody>\n",
       "    <tr>\n",
       "      <th>Male</th>\n",
       "      <td>797.5</td>\n",
       "      <td>1700.0</td>\n",
       "      <td>1200.0</td>\n",
       "      <td>2800.0</td>\n",
       "      <td>1200.0</td>\n",
       "    </tr>\n",
       "    <tr>\n",
       "      <th>Female</th>\n",
       "      <td>788.0</td>\n",
       "      <td>1200.0</td>\n",
       "      <td>800.0</td>\n",
       "      <td>1500.0</td>\n",
       "      <td>800.0</td>\n",
       "    </tr>\n",
       "  </tbody>\n",
       "</table>\n",
       "</div>"
      ],
      "text/plain": [
       "Ethnicity  Indian  Caucasian  Dark Colored Skin   Asian  \\\n",
       "Gender                                                    \n",
       "Male        797.5     1700.0             1200.0  2800.0   \n",
       "Female      788.0     1200.0              800.0  1500.0   \n",
       "\n",
       "Ethnicity  Dark Colored Skin (Pardo)  \n",
       "Gender                                \n",
       "Male                          1200.0  \n",
       "Female                         800.0  "
      ]
     },
     "execution_count": 102,
     "metadata": {},
     "output_type": "execute_result"
    }
   ],
   "source": [
    "income_medians = pd.crosstab(data['Gender'], data['Ethnicity'], aggfunc = 'median', values = data['Income'])\n",
    "income_medians.rename(index = gender, inplace = True)\n",
    "income_medians.rename(columns = race, inplace = True)\n",
    "income_medians"
   ]
  },
  {
   "cell_type": "markdown",
   "id": "464acf1e",
   "metadata": {},
   "source": [
    "## Conclusion: \n",
    "### Here we can analyse that:\n",
    "###  - Man earn more than woman; \n",
    "###  - Asian and Caucasian Man, in this order, earn more compared with others."
   ]
  },
  {
   "cell_type": "code",
   "execution_count": null,
   "id": "57797539",
   "metadata": {},
   "outputs": [],
   "source": []
  },
  {
   "cell_type": "markdown",
   "id": "3d651196",
   "metadata": {},
   "source": [
    "## 2 - Analysing the variable Income"
   ]
  },
  {
   "cell_type": "code",
   "execution_count": 103,
   "id": "f35fa45d",
   "metadata": {},
   "outputs": [
    {
     "name": "stderr",
     "output_type": "stream",
     "text": [
      "C:\\Users\\caiom\\anaconda3\\lib\\site-packages\\seaborn\\distributions.py:2619: FutureWarning: `distplot` is a deprecated function and will be removed in a future version. Please adapt your code to use either `displot` (a figure-level function with similar flexibility) or `histplot` (an axes-level function for histograms).\n",
      "  warnings.warn(msg, FutureWarning)\n"
     ]
    },
    {
     "data": {
      "text/plain": [
       "<AxesSubplot:xlabel='Income', ylabel='Density'>"
      ]
     },
     "execution_count": 103,
     "metadata": {},
     "output_type": "execute_result"
    },
    {
     "data": {
      "image/png": "[encoded data removed]",
      "text/plain": [
       "<Figure size 864x432 with 1 Axes>"
      ]
     },
     "metadata": {
      "needs_background": "light"
     },
     "output_type": "display_data"
    }
   ],
   "source": [
    "import seaborn as sns\n",
    "ax = sns.distplot(data.Income)\n",
    "ax.figure.set_size_inches(12,6)\n",
    "ax"
   ]
  },
  {
   "cell_type": "code",
   "execution_count": 104,
   "id": "90818b98",
   "metadata": {},
   "outputs": [],
   "source": [
    "### It is noticeable the presence of outliers"
   ]
  },
  {
   "cell_type": "code",
   "execution_count": 105,
   "id": "abb910f2",
   "metadata": {},
   "outputs": [],
   "source": [
    "### As the graph became to small, we can use a query to reduce the interval of the Income"
   ]
  },
  {
   "cell_type": "code",
   "execution_count": 106,
   "id": "0c7ff973",
   "metadata": {},
   "outputs": [
    {
     "name": "stderr",
     "output_type": "stream",
     "text": [
      "C:\\Users\\caiom\\anaconda3\\lib\\site-packages\\seaborn\\distributions.py:2619: FutureWarning: `distplot` is a deprecated function and will be removed in a future version. Please adapt your code to use either `displot` (a figure-level function with similar flexibility) or `histplot` (an axes-level function for histograms).\n",
      "  warnings.warn(msg, FutureWarning)\n"
     ]
    },
    {
     "data": {
      "text/plain": [
       "<AxesSubplot:xlabel='Income', ylabel='Density'>"
      ]
     },
     "execution_count": 106,
     "metadata": {},
     "output_type": "execute_result"
    },
    {
     "data": {
      "image/png": "[encoded data removed]",
      "text/plain": [
       "<Figure size 864x432 with 1 Axes>"
      ]
     },
     "metadata": {
      "needs_background": "light"
     },
     "output_type": "display_data"
    }
   ],
   "source": [
    "ax = sns.distplot(data.query('Income<20000').Income)\n",
    "ax.figure.set_size_inches(12,6)\n",
    "ax"
   ]
  },
  {
   "cell_type": "markdown",
   "id": "47a1e637",
   "metadata": {},
   "source": [
    "### Conclusion 1: Analysing the graph is possible to see that most of the people earn less then  <b>R$ 5.000,00</b>. To complete the analysis, is necessary to separate the incomes into seccions  "
   ]
  },
  {
   "cell_type": "markdown",
   "id": "df1c9533",
   "metadata": {},
   "source": [
    "<b>A</b>: Oven than 20 MI\n",
    "\n",
    "<b>B</b>: From 10 to 20 MI\n",
    "\n",
    "<b>C</b>: From 4 to 10 MI\n",
    "\n",
    "<b>D</b>: From 2 to 4 MI\n",
    "\n",
    "<b>E</b>: Until 2 MI\n",
    "\n",
    "where <b>MI</b> is the value of minimum income at the time. At this case is <b>R$ 788,00</b> (2015):\n",
    "\n",
    "<b>A</b>: Oven than 15.760\n",
    "\n",
    "<b>B</b>: From 7.880 to 15.760\n",
    "\n",
    "<b>C</b>: From 3.152 to 7.880\n",
    "\n",
    "<b>D</b>: From 1.576 to 3.152\n",
    "\n",
    "<b>E</b>: Until 1.576\n"
   ]
  },
  {
   "cell_type": "code",
   "execution_count": 107,
   "id": "556e5d24",
   "metadata": {},
   "outputs": [],
   "source": [
    "classes = [0, 1576, 3152, 7880, 15760, 200000]\n",
    "labels = ['E', 'D', 'C', 'B', 'A']"
   ]
  },
  {
   "cell_type": "code",
   "execution_count": 108,
   "id": "ee9e34ad",
   "metadata": {},
   "outputs": [
    {
     "data": {
      "text/plain": [
       "E    49755\n",
       "D    16700\n",
       "C     7599\n",
       "B     2178\n",
       "A      608\n",
       "Name: Income, dtype: int64"
      ]
     },
     "execution_count": 108,
     "metadata": {},
     "output_type": "execute_result"
    }
   ],
   "source": [
    "frequency = (pd.cut(x = data.Income,\n",
    "           bins = classes,\n",
    "           labels = labels,\n",
    "           include_lowest = True)).value_counts()\n",
    "frequency"
   ]
  },
  {
   "cell_type": "code",
   "execution_count": 109,
   "id": "71dbd59d",
   "metadata": {},
   "outputs": [
    {
     "data": {
      "text/plain": [
       "E    0.647514\n",
       "D    0.217335\n",
       "C    0.098894\n",
       "B    0.028345\n",
       "A    0.007913\n",
       "Name: Income, dtype: float64"
      ]
     },
     "execution_count": 109,
     "metadata": {},
     "output_type": "execute_result"
    }
   ],
   "source": [
    "percentage = pd.value_counts(pd.cut(x = data.Income,\n",
    "       bins = classes,\n",
    "       labels = labels,\n",
    "       include_lowest = True),\n",
    "              normalize = True)\n",
    "percentage"
   ]
  },
  {
   "cell_type": "code",
   "execution_count": 110,
   "id": "385d1e31",
   "metadata": {},
   "outputs": [
    {
     "data": {
      "text/html": [
       "<div>\n",
       "<style scoped>\n",
       "    .dataframe tbody tr th:only-of-type {\n",
       "        vertical-align: middle;\n",
       "    }\n",
       "\n",
       "    .dataframe tbody tr th {\n",
       "        vertical-align: top;\n",
       "    }\n",
       "\n",
       "    .dataframe thead th {\n",
       "        text-align: right;\n",
       "    }\n",
       "</style>\n",
       "<table border=\"1\" class=\"dataframe\">\n",
       "  <thead>\n",
       "    <tr style=\"text-align: right;\">\n",
       "      <th></th>\n",
       "      <th>Frequency</th>\n",
       "      <th>Percentage</th>\n",
       "    </tr>\n",
       "  </thead>\n",
       "  <tbody>\n",
       "    <tr>\n",
       "      <th>E</th>\n",
       "      <td>49755</td>\n",
       "      <td>0.647514</td>\n",
       "    </tr>\n",
       "    <tr>\n",
       "      <th>D</th>\n",
       "      <td>16700</td>\n",
       "      <td>0.217335</td>\n",
       "    </tr>\n",
       "    <tr>\n",
       "      <th>C</th>\n",
       "      <td>7599</td>\n",
       "      <td>0.098894</td>\n",
       "    </tr>\n",
       "    <tr>\n",
       "      <th>B</th>\n",
       "      <td>2178</td>\n",
       "      <td>0.028345</td>\n",
       "    </tr>\n",
       "    <tr>\n",
       "      <th>A</th>\n",
       "      <td>608</td>\n",
       "      <td>0.007913</td>\n",
       "    </tr>\n",
       "  </tbody>\n",
       "</table>\n",
       "</div>"
      ],
      "text/plain": [
       "   Frequency  Percentage\n",
       "E      49755    0.647514\n",
       "D      16700    0.217335\n",
       "C       7599    0.098894\n",
       "B       2178    0.028345\n",
       "A        608    0.007913"
      ]
     },
     "execution_count": 110,
     "metadata": {},
     "output_type": "execute_result"
    }
   ],
   "source": [
    "personalised_freq_distr = pd.DataFrame({'Frequency': frequency, 'Percentage': percentage})\n",
    "personalised_freq_distr"
   ]
  },
  {
   "cell_type": "markdown",
   "id": "976539ed",
   "metadata": {},
   "source": [
    "### Conclusion 2: As was possible to see, the class E (earn less than 2 Minimin Income) have more records."
   ]
  },
  {
   "cell_type": "code",
   "execution_count": null,
   "id": "f3e9d120",
   "metadata": {},
   "outputs": [],
   "source": []
  },
  {
   "cell_type": "markdown",
   "id": "93bae54b",
   "metadata": {},
   "source": [
    "## 3 - Doing a Hypothesis Test"
   ]
  },
  {
   "cell_type": "markdown",
   "id": "fc8679c9",
   "metadata": {},
   "source": [
    "### Now we will use hypothesis test to verify if the Income of Man are less than Woman, using the significance level = 1%"
   ]
  },
  {
   "cell_type": "markdown",
   "id": "8bb0a1ae",
   "metadata": {},
   "source": [
    "### $\\mu_1 \\Rightarrow$ Average income of male heads of households\n",
    "### $\\mu_2 \\Rightarrow$ Average income of female heads of households\n",
    "\n",
    "### $\n",
    "\\begin{cases}\n",
    "H_0: \\mu_1 \\leq \\mu_2\\\\\n",
    "H_1: \\mu_1 > \\mu_2\n",
    "\\end{cases}\n",
    "$\n",
    "\n",
    "##### OBS: It is important to note that to use the hypothesis test, the sample distribution have to be a normal, we have to consider the number of samples, population and sample standard deviation. For this analysis, these rules were disregarded."
   ]
  },
  {
   "cell_type": "code",
   "execution_count": 111,
   "id": "c02b4f80",
   "metadata": {},
   "outputs": [],
   "source": [
    "man = data.query('Gender == 0').Income\n",
    "woman = data.query('Gender == 1').Income"
   ]
  },
  {
   "cell_type": "code",
   "execution_count": 112,
   "id": "2d2caefd",
   "metadata": {},
   "outputs": [],
   "source": [
    "significance = 0.01\n",
    "confidence = 1 - significance"
   ]
  },
  {
   "cell_type": "code",
   "execution_count": 113,
   "id": "fd837c66",
   "metadata": {},
   "outputs": [
    {
     "data": {
      "text/plain": [
       "2.3263478740408408"
      ]
     },
     "execution_count": 113,
     "metadata": {},
     "output_type": "execute_result"
    }
   ],
   "source": [
    "from scipy.stats import norm\n",
    "z_alpha = norm.ppf(confidence)\n",
    "z_alpha"
   ]
  },
  {
   "cell_type": "code",
   "execution_count": 114,
   "id": "da05864d",
   "metadata": {},
   "outputs": [],
   "source": [
    "from statsmodels.stats.weightstats import DescrStatsW\n",
    "test_Man = DescrStatsW(man)\n",
    "test_Woman = DescrStatsW(woman)\n",
    "test_A = test_Man.get_compare(test_Woman)"
   ]
  },
  {
   "cell_type": "code",
   "execution_count": 115,
   "id": "8739212e",
   "metadata": {},
   "outputs": [
    {
     "name": "stdout",
     "output_type": "stream",
     "text": [
      "24.159180933661972\n",
      "2.9896498343763234e-129\n"
     ]
    }
   ],
   "source": [
    "z, p_value = test_A.ztest_ind(alternative='larger', value=0)\n",
    "print(z)\n",
    "print(p_value)"
   ]
  },
  {
   "cell_type": "code",
   "execution_count": 116,
   "id": "dc6b7f16",
   "metadata": {},
   "outputs": [
    {
     "data": {
      "text/plain": [
       "True"
      ]
     },
     "execution_count": 116,
     "metadata": {},
     "output_type": "execute_result"
    }
   ],
   "source": [
    "z>=z_alpha"
   ]
  },
  {
   "cell_type": "code",
   "execution_count": 117,
   "id": "58f7e620",
   "metadata": {},
   "outputs": [
    {
     "data": {
      "text/plain": [
       "True"
      ]
     },
     "execution_count": 117,
     "metadata": {},
     "output_type": "execute_result"
    }
   ],
   "source": [
    "p_value<=significance"
   ]
  },
  {
   "cell_type": "markdown",
   "id": "27bb79dd",
   "metadata": {},
   "source": [
    "### Conclusion: With a confidence level of 99%, we reject 𝐻0 , that is, we conclude that the average income of male heads of households is greater than the average of female heads of households. Confirming the allegation of income inequality between the gender."
   ]
  },
  {
   "cell_type": "code",
   "execution_count": null,
   "id": "9687dba2",
   "metadata": {},
   "outputs": [],
   "source": []
  },
  {
   "cell_type": "markdown",
   "id": "ffcd351f",
   "metadata": {},
   "source": [
    "## 4 - Linear Regression "
   ]
  },
  {
   "cell_type": "code",
   "execution_count": 118,
   "id": "f8e41953",
   "metadata": {},
   "outputs": [
    {
     "data": {
      "text/html": [
       "<div>\n",
       "<style scoped>\n",
       "    .dataframe tbody tr th:only-of-type {\n",
       "        vertical-align: middle;\n",
       "    }\n",
       "\n",
       "    .dataframe tbody tr th {\n",
       "        vertical-align: top;\n",
       "    }\n",
       "\n",
       "    .dataframe thead th {\n",
       "        text-align: right;\n",
       "    }\n",
       "</style>\n",
       "<table border=\"1\" class=\"dataframe\">\n",
       "  <thead>\n",
       "    <tr style=\"text-align: right;\">\n",
       "      <th></th>\n",
       "      <th>State</th>\n",
       "      <th>Gender</th>\n",
       "      <th>Age</th>\n",
       "      <th>Ethnicity</th>\n",
       "      <th>Years of Study</th>\n",
       "      <th>Income</th>\n",
       "    </tr>\n",
       "  </thead>\n",
       "  <tbody>\n",
       "    <tr>\n",
       "      <th>State</th>\n",
       "      <td>1.000000</td>\n",
       "      <td>0.001479</td>\n",
       "      <td>0.019818</td>\n",
       "      <td>-0.252820</td>\n",
       "      <td>0.123380</td>\n",
       "      <td>0.127939</td>\n",
       "    </tr>\n",
       "    <tr>\n",
       "      <th>Gender</th>\n",
       "      <td>0.001479</td>\n",
       "      <td>1.000000</td>\n",
       "      <td>0.002994</td>\n",
       "      <td>-0.003193</td>\n",
       "      <td>0.115662</td>\n",
       "      <td>-0.086826</td>\n",
       "    </tr>\n",
       "    <tr>\n",
       "      <th>Age</th>\n",
       "      <td>0.019818</td>\n",
       "      <td>0.002994</td>\n",
       "      <td>1.000000</td>\n",
       "      <td>-0.058952</td>\n",
       "      <td>-0.267614</td>\n",
       "      <td>0.041357</td>\n",
       "    </tr>\n",
       "    <tr>\n",
       "      <th>Ethnicity</th>\n",
       "      <td>-0.252820</td>\n",
       "      <td>-0.003193</td>\n",
       "      <td>-0.058952</td>\n",
       "      <td>1.000000</td>\n",
       "      <td>-0.173609</td>\n",
       "      <td>-0.151921</td>\n",
       "    </tr>\n",
       "    <tr>\n",
       "      <th>Years of Study</th>\n",
       "      <td>0.123380</td>\n",
       "      <td>0.115662</td>\n",
       "      <td>-0.267614</td>\n",
       "      <td>-0.173609</td>\n",
       "      <td>1.000000</td>\n",
       "      <td>0.332152</td>\n",
       "    </tr>\n",
       "    <tr>\n",
       "      <th>Income</th>\n",
       "      <td>0.127939</td>\n",
       "      <td>-0.086826</td>\n",
       "      <td>0.041357</td>\n",
       "      <td>-0.151921</td>\n",
       "      <td>0.332152</td>\n",
       "      <td>1.000000</td>\n",
       "    </tr>\n",
       "  </tbody>\n",
       "</table>\n",
       "</div>"
      ],
      "text/plain": [
       "                   State    Gender       Age  Ethnicity  Years of Study  \\\n",
       "State           1.000000  0.001479  0.019818  -0.252820        0.123380   \n",
       "Gender          0.001479  1.000000  0.002994  -0.003193        0.115662   \n",
       "Age             0.019818  0.002994  1.000000  -0.058952       -0.267614   \n",
       "Ethnicity      -0.252820 -0.003193 -0.058952   1.000000       -0.173609   \n",
       "Years of Study  0.123380  0.115662 -0.267614  -0.173609        1.000000   \n",
       "Income          0.127939 -0.086826  0.041357  -0.151921        0.332152   \n",
       "\n",
       "                  Income  \n",
       "State           0.127939  \n",
       "Gender         -0.086826  \n",
       "Age             0.041357  \n",
       "Ethnicity      -0.151921  \n",
       "Years of Study  0.332152  \n",
       "Income          1.000000  "
      ]
     },
     "execution_count": 118,
     "metadata": {},
     "output_type": "execute_result"
    }
   ],
   "source": [
    "# Analysing the correlation between the variables\n",
    "data.corr()"
   ]
  },
  {
   "cell_type": "code",
   "execution_count": 119,
   "id": "14634bd5",
   "metadata": {},
   "outputs": [],
   "source": [
    "# Separating the variable with the highest correlation (Income and Years of Study)\n",
    "Y = data.Income\n",
    "X = data['Years of Study']"
   ]
  },
  {
   "cell_type": "code",
   "execution_count": 120,
   "id": "c42de9e8",
   "metadata": {},
   "outputs": [
    {
     "data": {
      "text/html": [
       "<div>\n",
       "<style scoped>\n",
       "    .dataframe tbody tr th:only-of-type {\n",
       "        vertical-align: middle;\n",
       "    }\n",
       "\n",
       "    .dataframe tbody tr th {\n",
       "        vertical-align: top;\n",
       "    }\n",
       "\n",
       "    .dataframe thead th {\n",
       "        text-align: right;\n",
       "    }\n",
       "</style>\n",
       "<table border=\"1\" class=\"dataframe\">\n",
       "  <thead>\n",
       "    <tr style=\"text-align: right;\">\n",
       "      <th></th>\n",
       "      <th>Years of Study</th>\n",
       "      <th>Income</th>\n",
       "    </tr>\n",
       "  </thead>\n",
       "  <tbody>\n",
       "    <tr>\n",
       "      <th>0</th>\n",
       "      <td>12</td>\n",
       "      <td>800</td>\n",
       "    </tr>\n",
       "    <tr>\n",
       "      <th>1</th>\n",
       "      <td>12</td>\n",
       "      <td>1150</td>\n",
       "    </tr>\n",
       "    <tr>\n",
       "      <th>2</th>\n",
       "      <td>15</td>\n",
       "      <td>880</td>\n",
       "    </tr>\n",
       "    <tr>\n",
       "      <th>3</th>\n",
       "      <td>6</td>\n",
       "      <td>3500</td>\n",
       "    </tr>\n",
       "    <tr>\n",
       "      <th>4</th>\n",
       "      <td>9</td>\n",
       "      <td>150</td>\n",
       "    </tr>\n",
       "  </tbody>\n",
       "</table>\n",
       "</div>"
      ],
      "text/plain": [
       "   Years of Study  Income\n",
       "0              12     800\n",
       "1              12    1150\n",
       "2              15     880\n",
       "3               6    3500\n",
       "4               9     150"
      ]
     },
     "execution_count": 120,
     "metadata": {},
     "output_type": "execute_result"
    }
   ],
   "source": [
    "# Tranform in a DataFrame\n",
    "dataframe_X = pd.DataFrame(X)\n",
    "dataframe_Y = pd.DataFrame(Y)\n",
    "dataframe = pd.concat([dataframe_X,dataframe_Y], axis = 1, join = 'inner')\n",
    "dataframe.head(5)"
   ]
  },
  {
   "cell_type": "code",
   "execution_count": 121,
   "id": "304e62b3",
   "metadata": {},
   "outputs": [
    {
     "data": {
      "text/plain": [
       "<seaborn.axisgrid.FacetGrid at 0x281ab7206a0>"
      ]
     },
     "execution_count": 121,
     "metadata": {},
     "output_type": "execute_result"
    },
    {
     "data": {
      "image/png": "[encoded data removed]",
      "text/plain": [
       "<Figure size 864x432 with 1 Axes>"
      ]
     },
     "metadata": {
      "needs_background": "light"
     },
     "output_type": "display_data"
    }
   ],
   "source": [
    "# Ploting a graph with linear regression\n",
    "import seaborn as sns\n",
    "ax = sns.lmplot(x= 'Years of Study', y = 'Income', data=dataframe)\n",
    "ax.fig.set_size_inches(12, 6)\n",
    "ax.fig.suptitle('Years of Study x Income', fontsize=16, y = 1.02)\n",
    "ax.set_xlabels(\"Years of Study\", fontsize=14)\n",
    "ax.set_ylabels(\"Income\", fontsize=14)\n",
    "ax"
   ]
  },
  {
   "cell_type": "code",
   "execution_count": 122,
   "id": "3e365dfe",
   "metadata": {},
   "outputs": [
    {
     "name": "stderr",
     "output_type": "stream",
     "text": [
      "C:\\Users\\caiom\\anaconda3\\lib\\site-packages\\statsmodels\\tsa\\tsatools.py:142: FutureWarning: In a future version of pandas all arguments of concat except for the argument 'objs' will be keyword-only\n",
      "  x = pd.concat(x[::order], 1)\n"
     ]
    }
   ],
   "source": [
    "# Doing the Linear Regression\n",
    "import statsmodels.api as sm\n",
    "# Y = Income\n",
    "# X = Years of Study\n",
    "Y = dataframe.Income\n",
    "X = sm.add_constant(dataframe['Years of Study'])"
   ]
  },
  {
   "cell_type": "code",
   "execution_count": 123,
   "id": "d4f410cb",
   "metadata": {},
   "outputs": [
    {
     "data": {
      "text/plain": [
       "0     800\n",
       "1    1150\n",
       "2     880\n",
       "3    3500\n",
       "4     150\n",
       "Name: Income, dtype: int64"
      ]
     },
     "execution_count": 123,
     "metadata": {},
     "output_type": "execute_result"
    }
   ],
   "source": [
    "Y.head()"
   ]
  },
  {
   "cell_type": "code",
   "execution_count": 124,
   "id": "9580201e",
   "metadata": {},
   "outputs": [
    {
     "data": {
      "text/html": [
       "<div>\n",
       "<style scoped>\n",
       "    .dataframe tbody tr th:only-of-type {\n",
       "        vertical-align: middle;\n",
       "    }\n",
       "\n",
       "    .dataframe tbody tr th {\n",
       "        vertical-align: top;\n",
       "    }\n",
       "\n",
       "    .dataframe thead th {\n",
       "        text-align: right;\n",
       "    }\n",
       "</style>\n",
       "<table border=\"1\" class=\"dataframe\">\n",
       "  <thead>\n",
       "    <tr style=\"text-align: right;\">\n",
       "      <th></th>\n",
       "      <th>const</th>\n",
       "      <th>Years of Study</th>\n",
       "    </tr>\n",
       "  </thead>\n",
       "  <tbody>\n",
       "    <tr>\n",
       "      <th>0</th>\n",
       "      <td>1.0</td>\n",
       "      <td>12</td>\n",
       "    </tr>\n",
       "    <tr>\n",
       "      <th>1</th>\n",
       "      <td>1.0</td>\n",
       "      <td>12</td>\n",
       "    </tr>\n",
       "    <tr>\n",
       "      <th>2</th>\n",
       "      <td>1.0</td>\n",
       "      <td>15</td>\n",
       "    </tr>\n",
       "    <tr>\n",
       "      <th>3</th>\n",
       "      <td>1.0</td>\n",
       "      <td>6</td>\n",
       "    </tr>\n",
       "    <tr>\n",
       "      <th>4</th>\n",
       "      <td>1.0</td>\n",
       "      <td>9</td>\n",
       "    </tr>\n",
       "  </tbody>\n",
       "</table>\n",
       "</div>"
      ],
      "text/plain": [
       "   const  Years of Study\n",
       "0    1.0              12\n",
       "1    1.0              12\n",
       "2    1.0              15\n",
       "3    1.0               6\n",
       "4    1.0               9"
      ]
     },
     "execution_count": 124,
     "metadata": {},
     "output_type": "execute_result"
    }
   ],
   "source": [
    "X.head()"
   ]
  },
  {
   "cell_type": "code",
   "execution_count": 125,
   "id": "16956780",
   "metadata": {},
   "outputs": [],
   "source": [
    "regression_result = sm.OLS(Y, X).fit()"
   ]
  },
  {
   "cell_type": "code",
   "execution_count": 126,
   "id": "01990807",
   "metadata": {
    "scrolled": false
   },
   "outputs": [
    {
     "name": "stdout",
     "output_type": "stream",
     "text": [
      "                            OLS Regression Results                            \n",
      "==============================================================================\n",
      "Dep. Variable:                 Income   R-squared:                       0.110\n",
      "Model:                            OLS   Adj. R-squared:                  0.110\n",
      "Method:                 Least Squares   F-statistic:                     9528.\n",
      "Date:                Thu, 15 Sep 2022   Prob (F-statistic):               0.00\n",
      "Time:                        13:54:17   Log-Likelihood:            -7.2762e+05\n",
      "No. Observations:               76840   AIC:                         1.455e+06\n",
      "Df Residuals:                   76838   BIC:                         1.455e+06\n",
      "Df Model:                           1                                         \n",
      "Covariance Type:            nonrobust                                         \n",
      "==================================================================================\n",
      "                     coef    std err          t      P>|t|      [0.025      0.975]\n",
      "----------------------------------------------------------------------------------\n",
      "const           -302.1337     26.159    -11.550      0.000    -353.405    -250.863\n",
      "Years of Study   243.1466      2.491     97.613      0.000     238.264     248.029\n",
      "==============================================================================\n",
      "Omnibus:                   160253.093   Durbin-Watson:                   1.580\n",
      "Prob(Omnibus):                  0.000   Jarque-Bera (JB):       1868553383.992\n",
      "Skew:                          17.476   Prob(JB):                         0.00\n",
      "Kurtosis:                     766.150   Cond. No.                         24.5\n",
      "==============================================================================\n",
      "\n",
      "Notes:\n",
      "[1] Standard Errors assume that the covariance matrix of the errors is correctly specified.\n"
     ]
    }
   ],
   "source": [
    "print(regression_result.summary())"
   ]
  },
  {
   "cell_type": "code",
   "execution_count": 127,
   "id": "4f963d91",
   "metadata": {
    "scrolled": true
   },
   "outputs": [
    {
     "data": {
      "text/plain": [
       "const            -302.133737\n",
       "Years of Study    243.146629\n",
       "dtype: float64"
      ]
     },
     "execution_count": 127,
     "metadata": {},
     "output_type": "execute_result"
    }
   ],
   "source": [
    "regression_result.params"
   ]
  },
  {
   "cell_type": "markdown",
   "id": "a25d5434",
   "metadata": {},
   "source": [
    "> ### Years of Study\n",
    "***\n",
    "\n",
    "|COD|Identification|\n",
    "|---|---|\n",
    "|1|Without instruction or less than 1 year|\n",
    "|2|1 year|\n",
    "|3|2 years|\n",
    "|4|3 years|\n",
    "|5|4 years|\n",
    "|6|5 years|\n",
    "|7|6 years|\n",
    "|8|7 years|\n",
    "|9|8 years|\n",
    "|10|9 years|\n",
    "|11|10 years|\n",
    "|12|11 years|\n",
    "|13|12 years|\n",
    "|14|13 years|\n",
    "|15|14 years|\n",
    "|16|15 years or more|\n",
    "|17|Not determined| \n",
    "||Not applicable|\n"
   ]
  },
  {
   "cell_type": "code",
   "execution_count": 129,
   "id": "12e515b2",
   "metadata": {},
   "outputs": [
    {
     "data": {
      "text/plain": [
       "2615.625809548629"
      ]
     },
     "execution_count": 129,
     "metadata": {},
     "output_type": "execute_result"
    }
   ],
   "source": [
    "# Making a prediction\n",
    "regression_result.predict([1, 12])[0]"
   ]
  },
  {
   "cell_type": "code",
   "execution_count": null,
   "id": "e7b3a44e",
   "metadata": {},
   "outputs": [],
   "source": []
  }
 ],
 "metadata": {
  "kernelspec": {
   "display_name": "Python 3 (ipykernel)",
   "language": "python",
   "name": "python3"
  },
  "language_info": {
   "codemirror_mode": {
    "name": "ipython",
    "version": 3
   },
   "file_extension": ".py",
   "mimetype": "text/x-python",
   "name": "python",
   "nbconvert_exporter": "python",
   "pygments_lexer": "ipython3",
   "version": "3.9.7"
  }
 },
 "nbformat": 4,
 "nbformat_minor": 5
}
